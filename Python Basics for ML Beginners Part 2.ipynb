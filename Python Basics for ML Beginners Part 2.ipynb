{
 "cells": [
  {
   "cell_type": "markdown",
   "metadata": {},
   "source": [
    "# Modules"
   ]
  },
  {
   "cell_type": "markdown",
   "metadata": {},
   "source": [
    "Modules refer to a file that contains statements and definitions from Python.Modules are used to break down big programs into accessible and structured folders.Additionally, modules have code reusability.The most used functions can be defined in a module and import it, instead of copying their definitions \n",
    "into different programs."
   ]
  },
  {
   "cell_type": "code",
   "execution_count": 1,
   "metadata": {},
   "outputs": [
    {
     "name": "stdout",
     "output_type": "stream",
     "text": [
      "3.141592653589793\n"
     ]
    }
   ],
   "source": [
    "import math as mat\n",
    "print(mat.pi)"
   ]
  },
  {
   "cell_type": "code",
   "execution_count": 2,
   "metadata": {},
   "outputs": [
    {
     "data": {
      "text/plain": [
       "datetime.datetime(2021, 6, 17, 21, 34, 39, 599244)"
      ]
     },
     "execution_count": 2,
     "metadata": {},
     "output_type": "execute_result"
    }
   ],
   "source": [
    "import datetime\n",
    "datetime.datetime.now()"
   ]
  },
  {
   "cell_type": "code",
   "execution_count": 3,
   "metadata": {},
   "outputs": [
    {
     "name": "stdout",
     "output_type": "stream",
     "text": [
      "3.141592653589793\n"
     ]
    }
   ],
   "source": [
    "from math import *\n",
    "print(str(pi))"
   ]
  },
  {
   "cell_type": "code",
   "execution_count": 4,
   "metadata": {},
   "outputs": [
    {
     "data": {
      "text/plain": [
       "['__doc__',\n",
       " '__loader__',\n",
       " '__name__',\n",
       " '__package__',\n",
       " '__spec__',\n",
       " 'acos',\n",
       " 'acosh',\n",
       " 'asin',\n",
       " 'asinh',\n",
       " 'atan',\n",
       " 'atan2',\n",
       " 'atanh',\n",
       " 'ceil',\n",
       " 'copysign',\n",
       " 'cos',\n",
       " 'cosh',\n",
       " 'degrees',\n",
       " 'e',\n",
       " 'erf',\n",
       " 'erfc',\n",
       " 'exp',\n",
       " 'expm1',\n",
       " 'fabs',\n",
       " 'factorial',\n",
       " 'floor',\n",
       " 'fmod',\n",
       " 'frexp',\n",
       " 'fsum',\n",
       " 'gamma',\n",
       " 'gcd',\n",
       " 'hypot',\n",
       " 'inf',\n",
       " 'isclose',\n",
       " 'isfinite',\n",
       " 'isinf',\n",
       " 'isnan',\n",
       " 'ldexp',\n",
       " 'lgamma',\n",
       " 'log',\n",
       " 'log10',\n",
       " 'log1p',\n",
       " 'log2',\n",
       " 'modf',\n",
       " 'nan',\n",
       " 'pi',\n",
       " 'pow',\n",
       " 'radians',\n",
       " 'remainder',\n",
       " 'sin',\n",
       " 'sinh',\n",
       " 'sqrt',\n",
       " 'tan',\n",
       " 'tanh',\n",
       " 'tau',\n",
       " 'trunc']"
      ]
     },
     "execution_count": 4,
     "metadata": {},
     "output_type": "execute_result"
    }
   ],
   "source": [
    "dir(mat)"
   ]
  },
  {
   "cell_type": "markdown",
   "metadata": {},
   "source": [
    "# Package"
   ]
  },
  {
   "cell_type": "markdown",
   "metadata": {},
   "source": [
    "A directory must contain a file named init.py in order for Python to consider it as a package. This file can be left empty but we generally place the initialization code for that package in this file."
   ]
  },
  {
   "cell_type": "markdown",
   "metadata": {},
   "source": [
    "# File operations"
   ]
  },
  {
   "cell_type": "raw",
   "metadata": {},
   "source": [
    "● The file is a named location on the disc for storing relevant data.\n",
    "● It is used to store information indefinitely in a non-volatile memory (e.g. hard disk).\n",
    "● Since random access memory (RAM) is transient and removes its data when the device is switched off, \n",
    "backups are used to use the data in the future.\n",
    "● If we try to read or write from a file, we first need to open it.\n",
    "File operation:\n",
    "1. Open a file\n",
    "2. Read or write (perform operation)\n",
    "3. Close the file"
   ]
  },
  {
   "cell_type": "code",
   "execution_count": 1,
   "metadata": {},
   "outputs": [
    {
     "data": {
      "text/plain": [
       "'Hello people! \\nGood morning to one and all\\n'"
      ]
     },
     "execution_count": 1,
     "metadata": {},
     "output_type": "execute_result"
    }
   ],
   "source": [
    "a = open('abc.txt')\n",
    "a = open('abc.txt',\"r\")\n",
    "a = open('abc.txt',\"w\")\n",
    "a.write('Hello people! \\n')\n",
    "a.write('Good morning to one and all\\n')\n",
    "a.close()\n",
    "a = open('abc.txt','r')\n",
    "a.read()"
   ]
  },
  {
   "cell_type": "code",
   "execution_count": 2,
   "metadata": {},
   "outputs": [
    {
     "data": {
      "text/plain": [
       "'Hel'"
      ]
     },
     "execution_count": 2,
     "metadata": {},
     "output_type": "execute_result"
    }
   ],
   "source": [
    "a = open('abc.txt',\"r\")\n",
    "a.read(3)"
   ]
  },
  {
   "cell_type": "code",
   "execution_count": 3,
   "metadata": {},
   "outputs": [
    {
     "data": {
      "text/plain": [
       "'lo pe'"
      ]
     },
     "execution_count": 3,
     "metadata": {},
     "output_type": "execute_result"
    }
   ],
   "source": [
    "a.read(5)"
   ]
  },
  {
   "cell_type": "code",
   "execution_count": 4,
   "metadata": {},
   "outputs": [
    {
     "data": {
      "text/plain": [
       "8"
      ]
     },
     "execution_count": 4,
     "metadata": {},
     "output_type": "execute_result"
    }
   ],
   "source": [
    "a.tell()"
   ]
  },
  {
   "cell_type": "code",
   "execution_count": 5,
   "metadata": {},
   "outputs": [
    {
     "data": {
      "text/plain": [
       "0"
      ]
     },
     "execution_count": 5,
     "metadata": {},
     "output_type": "execute_result"
    }
   ],
   "source": [
    "a.seek(0)"
   ]
  },
  {
   "cell_type": "code",
   "execution_count": 6,
   "metadata": {},
   "outputs": [
    {
     "name": "stdout",
     "output_type": "stream",
     "text": [
      "Hello people! \n",
      "Good morning to one and all\n",
      "\n"
     ]
    }
   ],
   "source": [
    "print(a.read())"
   ]
  },
  {
   "cell_type": "code",
   "execution_count": 7,
   "metadata": {},
   "outputs": [
    {
     "name": "stdout",
     "output_type": "stream",
     "text": [
      "Hello people! \n",
      "\n",
      "Good morning to one and all\n",
      "\n"
     ]
    }
   ],
   "source": [
    "a.seek(0)\n",
    "for i in a:\n",
    "    print(i)"
   ]
  },
  {
   "cell_type": "code",
   "execution_count": 8,
   "metadata": {},
   "outputs": [
    {
     "data": {
      "text/plain": [
       "'Hello people! \\n'"
      ]
     },
     "execution_count": 8,
     "metadata": {},
     "output_type": "execute_result"
    }
   ],
   "source": [
    "a = open('abc.txt',\"r\")\n",
    "a.readline()"
   ]
  },
  {
   "cell_type": "code",
   "execution_count": 9,
   "metadata": {},
   "outputs": [
    {
     "data": {
      "text/plain": [
       "'Good morning to one and all\\n'"
      ]
     },
     "execution_count": 9,
     "metadata": {},
     "output_type": "execute_result"
    }
   ],
   "source": [
    "a.readline()"
   ]
  },
  {
   "cell_type": "code",
   "execution_count": 10,
   "metadata": {},
   "outputs": [
    {
     "data": {
      "text/plain": [
       "['Hello people! \\n', 'Good morning to one and all\\n']"
      ]
     },
     "execution_count": 10,
     "metadata": {},
     "output_type": "execute_result"
    }
   ],
   "source": [
    "a.seek(0)\n",
    "a.readlines()"
   ]
  },
  {
   "cell_type": "code",
   "execution_count": 11,
   "metadata": {},
   "outputs": [
    {
     "ename": "FileNotFoundError",
     "evalue": "[WinError 2] The system cannot find the file specified: 'def.txt' -> 'abc.txt'",
     "output_type": "error",
     "traceback": [
      "\u001b[1;31m---------------------------------------------------------------------------\u001b[0m",
      "\u001b[1;31mFileNotFoundError\u001b[0m                         Traceback (most recent call last)",
      "\u001b[1;32m<ipython-input-11-d6df5ae7a38a>\u001b[0m in \u001b[0;36m<module>\u001b[1;34m\u001b[0m\n\u001b[0;32m      1\u001b[0m \u001b[1;32mimport\u001b[0m \u001b[0mos\u001b[0m\u001b[1;33m\u001b[0m\u001b[1;33m\u001b[0m\u001b[0m\n\u001b[1;32m----> 2\u001b[1;33m \u001b[0mos\u001b[0m\u001b[1;33m.\u001b[0m\u001b[0mrename\u001b[0m\u001b[1;33m(\u001b[0m\u001b[1;34m'def.txt'\u001b[0m\u001b[1;33m,\u001b[0m\u001b[1;34m'abc.txt'\u001b[0m\u001b[1;33m)\u001b[0m \u001b[1;31m#cannot rename files\u001b[0m\u001b[1;33m\u001b[0m\u001b[1;33m\u001b[0m\u001b[0m\n\u001b[0m",
      "\u001b[1;31mFileNotFoundError\u001b[0m: [WinError 2] The system cannot find the file specified: 'def.txt' -> 'abc.txt'"
     ]
    }
   ],
   "source": [
    "import os\n",
    "os.rename('def.txt','abc.txt') #cannot rename files"
   ]
  },
  {
   "cell_type": "code",
   "execution_count": 12,
   "metadata": {},
   "outputs": [
    {
     "data": {
      "text/plain": [
       "'C:\\\\Users\\\\MRINALINI'"
      ]
     },
     "execution_count": 12,
     "metadata": {},
     "output_type": "execute_result"
    }
   ],
   "source": [
    "os.getcwd()"
   ]
  },
  {
   "cell_type": "code",
   "execution_count": 13,
   "metadata": {},
   "outputs": [],
   "source": [
    "os.chdir('C:/Users/MRINALINI/Desktop/ML')"
   ]
  },
  {
   "cell_type": "code",
   "execution_count": 14,
   "metadata": {},
   "outputs": [
    {
     "data": {
      "text/plain": [
       "['Decision Tree',\n",
       " 'K Means and KNN',\n",
       " 'KNN',\n",
       " 'Logistic Regression',\n",
       " 'MultiLinear Regression',\n",
       " \"Naive Baye's\",\n",
       " 'Polynomial Regression',\n",
       " 'Random Forest',\n",
       " 'Simple Linear Regression',\n",
       " 'SVM']"
      ]
     },
     "execution_count": 14,
     "metadata": {},
     "output_type": "execute_result"
    }
   ],
   "source": [
    "os.listdir(os.getcwd())"
   ]
  },
  {
   "cell_type": "code",
   "execution_count": 19,
   "metadata": {},
   "outputs": [],
   "source": [
    "os.mkdir('ML beginners')"
   ]
  },
  {
   "cell_type": "code",
   "execution_count": 20,
   "metadata": {},
   "outputs": [],
   "source": [
    "import shutil\n",
    "shutil.rmtree('ML beginners')"
   ]
  },
  {
   "cell_type": "code",
   "execution_count": 21,
   "metadata": {},
   "outputs": [
    {
     "data": {
      "text/plain": [
       "'C:\\\\Users\\\\MRINALINI\\\\Desktop\\\\ML'"
      ]
     },
     "execution_count": 21,
     "metadata": {},
     "output_type": "execute_result"
    }
   ],
   "source": [
    "os.getcwd()"
   ]
  },
  {
   "cell_type": "code",
   "execution_count": 23,
   "metadata": {},
   "outputs": [],
   "source": [
    "os.mkdir('ML beginners 1')"
   ]
  },
  {
   "cell_type": "code",
   "execution_count": 24,
   "metadata": {},
   "outputs": [],
   "source": [
    "os.rmdir('ML beginners 1')"
   ]
  },
  {
   "cell_type": "markdown",
   "metadata": {},
   "source": [
    "# Python Errors and Built-in-Exceptions"
   ]
  },
  {
   "cell_type": "code",
   "execution_count": 25,
   "metadata": {},
   "outputs": [
    {
     "name": "stdout",
     "output_type": "stream",
     "text": [
      "The value is: ML\n",
      "Oh oh! <class 'ValueError'> has occurred\n",
      "The value is: 4\n",
      "The value is: 0\n",
      "Oh oh! <class 'ZeroDivisionError'> has occurred\n",
      "The result of: 0 is 0.25\n"
     ]
    }
   ],
   "source": [
    "import sys\n",
    "a = ['ML',4,0]\n",
    "for item in a:\n",
    "    try:\n",
    "        print(\"The value is:\",item)\n",
    "        result = 1/int(item)\n",
    "    except:\n",
    "        print(\"Oh oh!\",sys.exc_info()[0],\"has occurred\")\n",
    "print(\"The result of:\",item,\"is\",result)\n",
    "        "
   ]
  },
  {
   "cell_type": "code",
   "execution_count": 26,
   "metadata": {},
   "outputs": [
    {
     "name": "stdout",
     "output_type": "stream",
     "text": [
      "The value is: ML\n",
      "Oh oh! value error has occurred\n",
      "The value is: 4\n",
      "The value is: 0\n",
      "Oh oh! zero division error has occurred\n",
      "The result of: 0 is 0.25\n"
     ]
    }
   ],
   "source": [
    "import sys\n",
    "a = ['ML',4,0]\n",
    "for item in a:\n",
    "    try:\n",
    "        print(\"The value is:\",item)\n",
    "        result = 1/int(item)\n",
    "    except(ValueError):\n",
    "        print(\"Oh oh! value error has occurred\")\n",
    "    except(ZeroDivisionError):\n",
    "        print(\"Oh oh! zero division error has occurred\")\n",
    "    except:\n",
    "        print(\"Oh oh! unknown error has occurred\")\n",
    "print(\"The result of:\",item,\"is\",result)"
   ]
  },
  {
   "cell_type": "code",
   "execution_count": 28,
   "metadata": {},
   "outputs": [
    {
     "name": "stdout",
     "output_type": "stream",
     "text": [
      "Enter a number>10:5\n",
      "Error:Please input appropriate number!\n"
     ]
    }
   ],
   "source": [
    "try:\n",
    "    n = int(input(\"Enter a number>10:\"))\n",
    "    if n<=10:\n",
    "        raise ValueError(\"Error:Please input appropriate number!\")\n",
    "except ValueError as e:\n",
    "    print(e)"
   ]
  },
  {
   "cell_type": "markdown",
   "metadata": {},
   "source": [
    "# Debugging"
   ]
  },
  {
   "cell_type": "markdown",
   "metadata": {},
   "source": [
    "For Python applications, pdb implements an immersive debugging environment.It provides functionality that allows you to interrupt the program, look at the variables' values, and \n",
    "monitor the execution of the program step-by-step, so you can understand what the program really does \n",
    "and find bugs in the logic."
   ]
  },
  {
   "cell_type": "code",
   "execution_count": 34,
   "metadata": {},
   "outputs": [
    {
     "name": "stdout",
     "output_type": "stream",
     "text": [
      "> <ipython-input-34-d028c6935ea4>(5)seq()\n",
      "-> print(item)\n",
      "(Pdb) p item\n",
      "0\n",
      "(Pdb) p items\n",
      "4\n",
      "(Pdb) p locals()\n",
      "{'items': 4, 'item': 0}\n",
      "(Pdb) p globals()\n",
      "{'__name__': '__main__', '__doc__': 'Automatically created module for IPython interactive environment', '__package__': None, '__loader__': None, '__spec__': None, '__builtin__': <module 'builtins' (built-in)>, '__builtins__': <module 'builtins' (built-in)>, '_ih': ['', 'a = open(\\'abc.txt\\')\\na = open(\\'abc.txt\\',\"r\")\\na = open(\\'abc.txt\\',\"w\")\\na.write(\\'Hello people! \\\\n\\')\\na.write(\\'Good morning to one and all\\\\n\\')\\na.close()\\na = open(\\'abc.txt\\',\\'r\\')\\na.read()', 'a = open(\\'abc.txt\\',\"r\")\\na.read(3)', 'a.read(5)', 'a.tell()', 'a.seek(0)', 'print(a.read())', 'a.seek(0)\\nfor i in a:\\n    print(i)', 'a = open(\\'abc.txt\\',\"r\")\\na.readline()', 'a.readline()', 'a.seek(0)\\na.readlines()', \"import os\\nos.rename('def.txt','abc.txt') #cannot rename files\", 'os.getcwd()', \"os.chdir('C:/Users/MRINALINI/Desktop/ML')\", 'os.listdir(os.getcwd())', \"os.mkdir('ML beginners')\", 'os.getcwd()', \"os.rmdir('ML beginners')\", \"import shutil\\nshutil.rmtree('ML beginners')\", \"os.mkdir('ML beginners')\", \"import shutil\\nshutil.rmtree('ML beginners')\", 'os.getcwd()', \"os.rmdir('ML beginners')\", \"os.mkdir('ML beginners 1')\", \"os.rmdir('ML beginners 1')\", 'import sys\\na = [\\'ML\\',4,0]\\nfor item in a:\\n    try:\\n        print(\"The value is:\",item)\\n        result = 1/int(item)\\n    except:\\n        print(\"Oh oh!\",sys.exc_info()[0],\"has occurred\")\\nprint(\"The result of:\",item,\"is\",result)\\n        ', 'import sys\\na = [\\'ML\\',4,0]\\nfor item in a:\\n    try:\\n        print(\"The value is:\",item)\\n        result = 1/int(item)\\n    except(ValueError):\\n        print(\"Oh oh! value error has occurred\")\\n    except(ZeroDivisionError):\\n        print(\"Oh oh! zero division error has occurred\")\\n    except:\\n        print(\"Oh oh! unknown error has occurred\")\\nprint(\"The result of:\",item,\"is\",result)', 'try:\\n    n = int(input(\"Enter a number>10:\"))\\n    if n<=10:\\n        raise ValueError(\"Error:Please input appropriate number!\")\\nexcept ValueError as e:\\n    print(e)', 'try:\\n    n = int(input(\"Enter a number>10:\"))\\n    if n<=10:\\n        raise ValueError(\"Error:Please input appropriate number!\")\\nexcept ValueError as e:\\n    print(e)', 'try:\\n    b = open(\"ML.txt\")\\nfinally:\\n    b.close()\\n    ', 'b = open(\"ML.txt\")', 'try:\\n    b = open(\"ML.txt\")\\nfinally:\\n    b.close()', 'def seq(items):\\n    for item in (items):\\n        print(item)\\n    return \\nseq(4)', 'def seq(items):\\n    for item in range(items):\\n        print(item)\\n    return \\nseq(4)', 'import pdb\\ndef seq(items):\\n    for item in range(items):\\n        pdb.set_trace()\\n        print(item)\\n        \\n    return \\nseq(4)'], '_oh': {1: 'Hello people! \\nGood morning to one and all\\n', 2: 'Hel', 3: 'lo pe', 4: 8, 5: 0, 8: 'Hello people! \\n', 9: 'Good morning to one and all\\n', 10: ['Hello people! \\n', 'Good morning to one and all\\n'], 12: 'C:\\\\Users\\\\MRINALINI', 14: ['Decision Tree', 'K Means and KNN', 'KNN', 'Logistic Regression', 'MultiLinear Regression', \"Naive Baye's\", 'Polynomial Regression', 'Random Forest', 'Simple Linear Regression', 'SVM'], 16: 'C:\\\\Users\\\\MRINALINI\\\\Desktop\\\\ML', 21: 'C:\\\\Users\\\\MRINALINI\\\\Desktop\\\\ML'}, '_dh': ['C:\\\\Users\\\\MRINALINI'], 'In': ['', 'a = open(\\'abc.txt\\')\\na = open(\\'abc.txt\\',\"r\")\\na = open(\\'abc.txt\\',\"w\")\\na.write(\\'Hello people! \\\\n\\')\\na.write(\\'Good morning to one and all\\\\n\\')\\na.close()\\na = open(\\'abc.txt\\',\\'r\\')\\na.read()', 'a = open(\\'abc.txt\\',\"r\")\\na.read(3)', 'a.read(5)', 'a.tell()', 'a.seek(0)', 'print(a.read())', 'a.seek(0)\\nfor i in a:\\n    print(i)', 'a = open(\\'abc.txt\\',\"r\")\\na.readline()', 'a.readline()', 'a.seek(0)\\na.readlines()', \"import os\\nos.rename('def.txt','abc.txt') #cannot rename files\", 'os.getcwd()', \"os.chdir('C:/Users/MRINALINI/Desktop/ML')\", 'os.listdir(os.getcwd())', \"os.mkdir('ML beginners')\", 'os.getcwd()', \"os.rmdir('ML beginners')\", \"import shutil\\nshutil.rmtree('ML beginners')\", \"os.mkdir('ML beginners')\", \"import shutil\\nshutil.rmtree('ML beginners')\", 'os.getcwd()', \"os.rmdir('ML beginners')\", \"os.mkdir('ML beginners 1')\", \"os.rmdir('ML beginners 1')\", 'import sys\\na = [\\'ML\\',4,0]\\nfor item in a:\\n    try:\\n        print(\"The value is:\",item)\\n        result = 1/int(item)\\n    except:\\n        print(\"Oh oh!\",sys.exc_info()[0],\"has occurred\")\\nprint(\"The result of:\",item,\"is\",result)\\n        ', 'import sys\\na = [\\'ML\\',4,0]\\nfor item in a:\\n    try:\\n        print(\"The value is:\",item)\\n        result = 1/int(item)\\n    except(ValueError):\\n        print(\"Oh oh! value error has occurred\")\\n    except(ZeroDivisionError):\\n        print(\"Oh oh! zero division error has occurred\")\\n    except:\\n        print(\"Oh oh! unknown error has occurred\")\\nprint(\"The result of:\",item,\"is\",result)', 'try:\\n    n = int(input(\"Enter a number>10:\"))\\n    if n<=10:\\n        raise ValueError(\"Error:Please input appropriate number!\")\\nexcept ValueError as e:\\n    print(e)', 'try:\\n    n = int(input(\"Enter a number>10:\"))\\n    if n<=10:\\n        raise ValueError(\"Error:Please input appropriate number!\")\\nexcept ValueError as e:\\n    print(e)', 'try:\\n    b = open(\"ML.txt\")\\nfinally:\\n    b.close()\\n    ', 'b = open(\"ML.txt\")', 'try:\\n    b = open(\"ML.txt\")\\nfinally:\\n    b.close()', 'def seq(items):\\n    for item in (items):\\n        print(item)\\n    return \\nseq(4)', 'def seq(items):\\n    for item in range(items):\\n        print(item)\\n    return \\nseq(4)', 'import pdb\\ndef seq(items):\\n    for item in range(items):\\n        pdb.set_trace()\\n        print(item)\\n        \\n    return \\nseq(4)'], 'Out': {1: 'Hello people! \\nGood morning to one and all\\n', 2: 'Hel', 3: 'lo pe', 4: 8, 5: 0, 8: 'Hello people! \\n', 9: 'Good morning to one and all\\n', 10: ['Hello people! \\n', 'Good morning to one and all\\n'], 12: 'C:\\\\Users\\\\MRINALINI', 14: ['Decision Tree', 'K Means and KNN', 'KNN', 'Logistic Regression', 'MultiLinear Regression', \"Naive Baye's\", 'Polynomial Regression', 'Random Forest', 'Simple Linear Regression', 'SVM'], 16: 'C:\\\\Users\\\\MRINALINI\\\\Desktop\\\\ML', 21: 'C:\\\\Users\\\\MRINALINI\\\\Desktop\\\\ML'}, 'get_ipython': <bound method InteractiveShell.get_ipython of <ipykernel.zmqshell.ZMQInteractiveShell object at 0x000002826D31B4C8>>, 'exit': <IPython.core.autocall.ZMQExitAutocall object at 0x000002826E63CD48>, 'quit': <IPython.core.autocall.ZMQExitAutocall object at 0x000002826E63CD48>, '_': 'C:\\\\Users\\\\MRINALINI\\\\Desktop\\\\ML', '__': 'C:\\\\Users\\\\MRINALINI\\\\Desktop\\\\ML', '___': ['Decision Tree', 'K Means and KNN', 'KNN', 'Logistic Regression', 'MultiLinear Regression', \"Naive Baye's\", 'Polynomial Regression', 'Random Forest', 'Simple Linear Regression', 'SVM'], '_i': 'def seq(items):\\n    for item in range(items):\\n        print(item)\\n    return \\nseq(4)', '_ii': 'def seq(items):\\n    for item in (items):\\n        print(item)\\n    return \\nseq(4)', '_iii': 'try:\\n    b = open(\"ML.txt\")\\nfinally:\\n    b.close()', '_i1': 'a = open(\\'abc.txt\\')\\na = open(\\'abc.txt\\',\"r\")\\na = open(\\'abc.txt\\',\"w\")\\na.write(\\'Hello people! \\\\n\\')\\na.write(\\'Good morning to one and all\\\\n\\')\\na.close()\\na = open(\\'abc.txt\\',\\'r\\')\\na.read()', 'a': ['ML', 4, 0], '_1': 'Hello people! \\nGood morning to one and all\\n', '_i2': 'a = open(\\'abc.txt\\',\"r\")\\na.read(3)', '_2': 'Hel', '_i3': 'a.read(5)', '_3': 'lo pe', '_i4': 'a.tell()', '_4': 8, '_i5': 'a.seek(0)', '_5': 0, '_i6': 'print(a.read())', '_i7': 'a.seek(0)\\nfor i in a:\\n    print(i)', 'i': 'Good morning to one and all\\n', '_i8': 'a = open(\\'abc.txt\\',\"r\")\\na.readline()', '_8': 'Hello people! \\n', '_i9': 'a.readline()', '_9': 'Good morning to one and all\\n', '_i10': 'a.seek(0)\\na.readlines()', '_10': ['Hello people! \\n', 'Good morning to one and all\\n'], '_i11': \"import os\\nos.rename('def.txt','abc.txt') #cannot rename files\", 'os': <module 'os' from 'C:\\\\Users\\\\MRINALINI\\\\Anaconda3\\\\lib\\\\os.py'>, '_i12': 'os.getcwd()', '_12': 'C:\\\\Users\\\\MRINALINI', '_i13': \"os.chdir('C:/Users/MRINALINI/Desktop/ML')\", '_i14': 'os.listdir(os.getcwd())', '_14': ['Decision Tree', 'K Means and KNN', 'KNN', 'Logistic Regression', 'MultiLinear Regression', \"Naive Baye's\", 'Polynomial Regression', 'Random Forest', 'Simple Linear Regression', 'SVM'], '_i15': \"os.mkdir('ML beginners')\", '_i16': 'os.getcwd()', '_16': 'C:\\\\Users\\\\MRINALINI\\\\Desktop\\\\ML', '_i17': \"os.rmdir('ML beginners')\", '_i18': \"import shutil\\nshutil.rmtree('ML beginners')\", 'shutil': <module 'shutil' from 'C:\\\\Users\\\\MRINALINI\\\\Anaconda3\\\\lib\\\\shutil.py'>, '_i19': \"os.mkdir('ML beginners')\", '_i20': \"import shutil\\nshutil.rmtree('ML beginners')\", '_i21': 'os.getcwd()', '_21': 'C:\\\\Users\\\\MRINALINI\\\\Desktop\\\\ML', '_i22': \"os.rmdir('ML beginners')\", '_i23': \"os.mkdir('ML beginners 1')\", '_i24': \"os.rmdir('ML beginners 1')\", '_i25': 'import sys\\na = [\\'ML\\',4,0]\\nfor item in a:\\n    try:\\n        print(\"The value is:\",item)\\n        result = 1/int(item)\\n    except:\\n        print(\"Oh oh!\",sys.exc_info()[0],\"has occurred\")\\nprint(\"The result of:\",item,\"is\",result)\\n        ', 'sys': <module 'sys' (built-in)>, 'item': 0, 'result': 0.25, '_i26': 'import sys\\na = [\\'ML\\',4,0]\\nfor item in a:\\n    try:\\n        print(\"The value is:\",item)\\n        result = 1/int(item)\\n    except(ValueError):\\n        print(\"Oh oh! value error has occurred\")\\n    except(ZeroDivisionError):\\n        print(\"Oh oh! zero division error has occurred\")\\n    except:\\n        print(\"Oh oh! unknown error has occurred\")\\nprint(\"The result of:\",item,\"is\",result)', '_i27': 'try:\\n    n = int(input(\"Enter a number>10:\"))\\n    if n<=10:\\n        raise ValueError(\"Error:Please input appropriate number!\")\\nexcept ValueError as e:\\n    print(e)', 'n': 5, '_i28': 'try:\\n    n = int(input(\"Enter a number>10:\"))\\n    if n<=10:\\n        raise ValueError(\"Error:Please input appropriate number!\")\\nexcept ValueError as e:\\n    print(e)', '_i29': 'try:\\n    b = open(\"ML.txt\")\\nfinally:\\n    b.close()\\n    ', '_i30': 'b = open(\"ML.txt\")', '_i31': 'try:\\n    b = open(\"ML.txt\")\\nfinally:\\n    b.close()', '_i32': 'def seq(items):\\n    for item in (items):\\n        print(item)\\n    return \\nseq(4)', 'seq': <function seq at 0x000002826E81CEE8>, '_i33': 'def seq(items):\\n    for item in range(items):\\n        print(item)\\n    return \\nseq(4)', '_i34': 'import pdb\\ndef seq(items):\\n    for item in range(items):\\n        pdb.set_trace()\\n        print(item)\\n        \\n    return \\nseq(4)', 'pdb': <module 'pdb' from 'C:\\\\Users\\\\MRINALINI\\\\Anaconda3\\\\lib\\\\pdb.py'>}\n"
     ]
    },
    {
     "name": "stdout",
     "output_type": "stream",
     "text": [
      "(Pdb) c\n",
      "0\n",
      "> <ipython-input-34-d028c6935ea4>(4)seq()\n",
      "-> pdb.set_trace()\n",
      "(Pdb) q\n"
     ]
    },
    {
     "ename": "BdbQuit",
     "evalue": "",
     "output_type": "error",
     "traceback": [
      "\u001b[1;31m---------------------------------------------------------------------------\u001b[0m",
      "\u001b[1;31mBdbQuit\u001b[0m                                   Traceback (most recent call last)",
      "\u001b[1;32m<ipython-input-34-d028c6935ea4>\u001b[0m in \u001b[0;36m<module>\u001b[1;34m\u001b[0m\n\u001b[0;32m      6\u001b[0m \u001b[1;33m\u001b[0m\u001b[0m\n\u001b[0;32m      7\u001b[0m     \u001b[1;32mreturn\u001b[0m\u001b[1;33m\u001b[0m\u001b[1;33m\u001b[0m\u001b[0m\n\u001b[1;32m----> 8\u001b[1;33m \u001b[0mseq\u001b[0m\u001b[1;33m(\u001b[0m\u001b[1;36m4\u001b[0m\u001b[1;33m)\u001b[0m\u001b[1;33m\u001b[0m\u001b[1;33m\u001b[0m\u001b[0m\n\u001b[0m",
      "\u001b[1;32m<ipython-input-34-d028c6935ea4>\u001b[0m in \u001b[0;36mseq\u001b[1;34m(items)\u001b[0m\n\u001b[0;32m      2\u001b[0m \u001b[1;32mdef\u001b[0m \u001b[0mseq\u001b[0m\u001b[1;33m(\u001b[0m\u001b[0mitems\u001b[0m\u001b[1;33m)\u001b[0m\u001b[1;33m:\u001b[0m\u001b[1;33m\u001b[0m\u001b[1;33m\u001b[0m\u001b[0m\n\u001b[0;32m      3\u001b[0m     \u001b[1;32mfor\u001b[0m \u001b[0mitem\u001b[0m \u001b[1;32min\u001b[0m \u001b[0mrange\u001b[0m\u001b[1;33m(\u001b[0m\u001b[0mitems\u001b[0m\u001b[1;33m)\u001b[0m\u001b[1;33m:\u001b[0m\u001b[1;33m\u001b[0m\u001b[1;33m\u001b[0m\u001b[0m\n\u001b[1;32m----> 4\u001b[1;33m         \u001b[0mpdb\u001b[0m\u001b[1;33m.\u001b[0m\u001b[0mset_trace\u001b[0m\u001b[1;33m(\u001b[0m\u001b[1;33m)\u001b[0m\u001b[1;33m\u001b[0m\u001b[1;33m\u001b[0m\u001b[0m\n\u001b[0m\u001b[0;32m      5\u001b[0m         \u001b[0mprint\u001b[0m\u001b[1;33m(\u001b[0m\u001b[0mitem\u001b[0m\u001b[1;33m)\u001b[0m\u001b[1;33m\u001b[0m\u001b[1;33m\u001b[0m\u001b[0m\n\u001b[0;32m      6\u001b[0m \u001b[1;33m\u001b[0m\u001b[0m\n",
      "\u001b[1;32m<ipython-input-34-d028c6935ea4>\u001b[0m in \u001b[0;36mseq\u001b[1;34m(items)\u001b[0m\n\u001b[0;32m      2\u001b[0m \u001b[1;32mdef\u001b[0m \u001b[0mseq\u001b[0m\u001b[1;33m(\u001b[0m\u001b[0mitems\u001b[0m\u001b[1;33m)\u001b[0m\u001b[1;33m:\u001b[0m\u001b[1;33m\u001b[0m\u001b[1;33m\u001b[0m\u001b[0m\n\u001b[0;32m      3\u001b[0m     \u001b[1;32mfor\u001b[0m \u001b[0mitem\u001b[0m \u001b[1;32min\u001b[0m \u001b[0mrange\u001b[0m\u001b[1;33m(\u001b[0m\u001b[0mitems\u001b[0m\u001b[1;33m)\u001b[0m\u001b[1;33m:\u001b[0m\u001b[1;33m\u001b[0m\u001b[1;33m\u001b[0m\u001b[0m\n\u001b[1;32m----> 4\u001b[1;33m         \u001b[0mpdb\u001b[0m\u001b[1;33m.\u001b[0m\u001b[0mset_trace\u001b[0m\u001b[1;33m(\u001b[0m\u001b[1;33m)\u001b[0m\u001b[1;33m\u001b[0m\u001b[1;33m\u001b[0m\u001b[0m\n\u001b[0m\u001b[0;32m      5\u001b[0m         \u001b[0mprint\u001b[0m\u001b[1;33m(\u001b[0m\u001b[0mitem\u001b[0m\u001b[1;33m)\u001b[0m\u001b[1;33m\u001b[0m\u001b[1;33m\u001b[0m\u001b[0m\n\u001b[0;32m      6\u001b[0m \u001b[1;33m\u001b[0m\u001b[0m\n",
      "\u001b[1;32m~\\Anaconda3\\lib\\bdb.py\u001b[0m in \u001b[0;36mtrace_dispatch\u001b[1;34m(self, frame, event, arg)\u001b[0m\n\u001b[0;32m     86\u001b[0m             \u001b[1;32mreturn\u001b[0m \u001b[1;31m# None\u001b[0m\u001b[1;33m\u001b[0m\u001b[1;33m\u001b[0m\u001b[0m\n\u001b[0;32m     87\u001b[0m         \u001b[1;32mif\u001b[0m \u001b[0mevent\u001b[0m \u001b[1;33m==\u001b[0m \u001b[1;34m'line'\u001b[0m\u001b[1;33m:\u001b[0m\u001b[1;33m\u001b[0m\u001b[1;33m\u001b[0m\u001b[0m\n\u001b[1;32m---> 88\u001b[1;33m             \u001b[1;32mreturn\u001b[0m \u001b[0mself\u001b[0m\u001b[1;33m.\u001b[0m\u001b[0mdispatch_line\u001b[0m\u001b[1;33m(\u001b[0m\u001b[0mframe\u001b[0m\u001b[1;33m)\u001b[0m\u001b[1;33m\u001b[0m\u001b[1;33m\u001b[0m\u001b[0m\n\u001b[0m\u001b[0;32m     89\u001b[0m         \u001b[1;32mif\u001b[0m \u001b[0mevent\u001b[0m \u001b[1;33m==\u001b[0m \u001b[1;34m'call'\u001b[0m\u001b[1;33m:\u001b[0m\u001b[1;33m\u001b[0m\u001b[1;33m\u001b[0m\u001b[0m\n\u001b[0;32m     90\u001b[0m             \u001b[1;32mreturn\u001b[0m \u001b[0mself\u001b[0m\u001b[1;33m.\u001b[0m\u001b[0mdispatch_call\u001b[0m\u001b[1;33m(\u001b[0m\u001b[0mframe\u001b[0m\u001b[1;33m,\u001b[0m \u001b[0marg\u001b[0m\u001b[1;33m)\u001b[0m\u001b[1;33m\u001b[0m\u001b[1;33m\u001b[0m\u001b[0m\n",
      "\u001b[1;32m~\\Anaconda3\\lib\\bdb.py\u001b[0m in \u001b[0;36mdispatch_line\u001b[1;34m(self, frame)\u001b[0m\n\u001b[0;32m    111\u001b[0m         \u001b[1;32mif\u001b[0m \u001b[0mself\u001b[0m\u001b[1;33m.\u001b[0m\u001b[0mstop_here\u001b[0m\u001b[1;33m(\u001b[0m\u001b[0mframe\u001b[0m\u001b[1;33m)\u001b[0m \u001b[1;32mor\u001b[0m \u001b[0mself\u001b[0m\u001b[1;33m.\u001b[0m\u001b[0mbreak_here\u001b[0m\u001b[1;33m(\u001b[0m\u001b[0mframe\u001b[0m\u001b[1;33m)\u001b[0m\u001b[1;33m:\u001b[0m\u001b[1;33m\u001b[0m\u001b[1;33m\u001b[0m\u001b[0m\n\u001b[0;32m    112\u001b[0m             \u001b[0mself\u001b[0m\u001b[1;33m.\u001b[0m\u001b[0muser_line\u001b[0m\u001b[1;33m(\u001b[0m\u001b[0mframe\u001b[0m\u001b[1;33m)\u001b[0m\u001b[1;33m\u001b[0m\u001b[1;33m\u001b[0m\u001b[0m\n\u001b[1;32m--> 113\u001b[1;33m             \u001b[1;32mif\u001b[0m \u001b[0mself\u001b[0m\u001b[1;33m.\u001b[0m\u001b[0mquitting\u001b[0m\u001b[1;33m:\u001b[0m \u001b[1;32mraise\u001b[0m \u001b[0mBdbQuit\u001b[0m\u001b[1;33m\u001b[0m\u001b[1;33m\u001b[0m\u001b[0m\n\u001b[0m\u001b[0;32m    114\u001b[0m         \u001b[1;32mreturn\u001b[0m \u001b[0mself\u001b[0m\u001b[1;33m.\u001b[0m\u001b[0mtrace_dispatch\u001b[0m\u001b[1;33m\u001b[0m\u001b[1;33m\u001b[0m\u001b[0m\n\u001b[0;32m    115\u001b[0m \u001b[1;33m\u001b[0m\u001b[0m\n",
      "\u001b[1;31mBdbQuit\u001b[0m: "
     ]
    }
   ],
   "source": [
    "import pdb\n",
    "def seq(items):\n",
    "    for item in range(items):\n",
    "        pdb.set_trace()\n",
    "        print(item)\n",
    "        \n",
    "    return \n",
    "seq(4)\n",
    "\n",
    "#c:continue\n",
    "#q:quit\n",
    "#h:help\n",
    "#list\n",
    "#p:print\n",
    "#p locals()\n",
    "#p globals()"
   ]
  }
 ],
 "metadata": {
  "kernelspec": {
   "display_name": "Python 3",
   "language": "python",
   "name": "python3"
  },
  "language_info": {
   "codemirror_mode": {
    "name": "ipython",
    "version": 3
   },
   "file_extension": ".py",
   "mimetype": "text/x-python",
   "name": "python",
   "nbconvert_exporter": "python",
   "pygments_lexer": "ipython3",
   "version": "3.7.4"
  }
 },
 "nbformat": 4,
 "nbformat_minor": 2
}
